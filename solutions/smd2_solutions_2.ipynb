{
 "cells": [
  {
   "cell_type": "markdown",
   "metadata": {},
   "source": [
    "# Übungsblatt 2: Kleinste Quadrate"
   ]
  },
  {
   "cell_type": "code",
   "execution_count": 34,
   "metadata": {
    "collapsed": true
   },
   "outputs": [],
   "source": [
    "import numpy as np\n",
    "import matplotlib.pyplot as plt\n",
    "import scipy.optimize\n",
    "plt.style.use('ggplot')\n",
    "%matplotlib inline\n",
    "from functools import partial"
   ]
  },
  {
   "cell_type": "markdown",
   "metadata": {
    "collapsed": true
   },
   "source": [
    "---\n",
    "## Aufgabe 1\n",
    "Betrachten Sie $y_k, k=1,2,\\dots,10$ Poisson-verteilte Messwerte um die Erwartungswerte $\\mu_k = a\\cdot k$. Der Parameter $a$ soll mit der Methode der kleinsten Quadrate geschätzt werden. Betrachten Sie dazu die folgenden $\\chi^2$-Funktionen:\n",
    "\n",
    "$$\\chi^2 = \\sum_{k=1}^{10} w_k (y_k - ak)^2 \\quad\\text{mit}\\quad w_k\\in \\left\\{1, \\frac{1}{y_k}, \\frac{1}{ak}, \\frac{1}{k}, \\frac{1}{a_{n-1}k} \\right\\}$$\n",
    "\n",
    "### 1.1\n",
    "Bestimmen Sie analytisch die Schätzwerte $\\hat{a}$ als Funktion der $y_k$, welche die entsprechenden $\\chi^2$-Funktion minimieren.\n",
    "\n",
    "---"
   ]
  },
  {
   "cell_type": "markdown",
   "metadata": {},
   "source": [
    "Für den Fall $w_k = 1$ ist\n",
    "\\begin{align}\n",
    "    \\chi^2 &= \\sum_k\\left(y_k - a k\\right)^2 \\\\\n",
    "           &= \\sum_k y_k^2 - 2 y_k a k + a^2 k^2 \\\\\n",
    "    \\frac{\\partial\\chi^2}{\\partial a} &= -2\\sum_k y_k k + 2\\sum_k a k^2 \\overset{!}{=} 0 \\\\\n",
    "    &\\Rightarrow a \\sum_k k^2 = \\sum_k y_k k \\\\\n",
    "    &\\Rightarrow a = \\frac{\\sum_k y_k k}{\\sum_k k^2}\n",
    "\\end{align}\n",
    "\n",
    "Für den Fall $w_k = 1 / y_k$ ist\n",
    "\\begin{align}\n",
    "    \\chi^2 &= \\sum_k \\frac{y_k^2 - 2 y_k a k + a^2 k^2}{y_k} \\\\\n",
    "           &= \\sum_k y_k - 2 a k + \\frac{a^2 k^2}{y_k} \\\\\n",
    "    \\frac{\\partial\\chi^2}{\\partial a} &= -2\\sum_k k + 2a\\sum_k \\frac{k^2}{y_k} \\overset{!}{=} 0 \\\\\n",
    "    &\\Rightarrow a \\sum_k \\frac{k^2}{y_k} = \\sum_k k \\\\\n",
    "    &\\Rightarrow a = \\frac{\\sum_k k}{\\sum_k \\frac{k^2}{y_k}}\n",
    "\\end{align}\n",
    "\n",
    "Für den Fall $w_k = 1 / ak$ ist\n",
    "\\begin{align}\n",
    "    \\chi^2 &= \\sum_k \\frac{y_k^2 - 2 y_k a k + a^2 k^2}{ak} \\\\\n",
    "           &= \\sum_k \\frac{y_k^2}{ak} - 2y_k + ak \\\\\n",
    "    \\frac{\\partial\\chi^2}{\\partial a} &= -\\frac{1}{a^2}\\sum_k \\frac{y_k^2}{k} + \\sum_k k \\overset{!}{=} 0 \\\\\n",
    "    &\\Rightarrow a^2 = \\frac{\\sum_k \\frac{y_k^2}{k}}{\\sum_k k} \\\\\n",
    "    &\\Rightarrow a = \\sqrt{\\frac{\\sum_k \\frac{y_k^2}{k}}{\\sum_k k}}\n",
    "\\end{align}\n",
    "\n",
    "Für den Fall $w_k = 1 / k$ ist\n",
    "\\begin{align}\n",
    "    \\chi^2 &= \\sum_k \\frac{y_k^2 - 2 y_k a k + a^2 k^2}{k} \\\\\n",
    "           &= \\sum_k \\frac{y_k^2}{k} - 2ay_k + a^2k \\\\\n",
    "    \\frac{\\partial\\chi^2}{\\partial a} &= -2\\sum_k y_k + 2a\\sum_k k \\overset{!}{=} 0 \\\\\n",
    "    &\\Rightarrow a\\sum_k k = \\sum_k y_k \\\\\n",
    "    &\\Rightarrow a = \\frac{\\sum_k y_k}{\\sum_k k}\n",
    "\\end{align}\n",
    "\n",
    "Für den Fall $w_k = 1 / a_{n-1} k$ ist\n",
    "\\begin{align}\n",
    "    \\chi^2 &= \\sum_k \\frac{y_k^2 - 2 y_k a k + a^2 k^2}{a_{n-1}k} \\\\\n",
    "           &= \\sum_k \\frac{y_k^2}{a_{n-1}k} - \\frac{2ay_k}{a_{n-1}} + \\frac{a^2k}{a_{n-1}} \\\\\n",
    "    \\frac{\\partial\\chi^2}{\\partial a} &= -\\frac{2}{a_{n-1}}\\sum_k y_k + 2\\frac{a}{a_{n-1}}\\sum_k k \\overset{!}{=} 0 \\\\\n",
    "    &\\Rightarrow \\frac{a}{a_{n-1}}\\sum_k k = \\frac{1}{a_{n-1}}\\sum_k y_k \\\\\n",
    "    &\\Rightarrow a = \\frac{\\sum_k y_k}{\\sum_k k}\n",
    "\\end{align}\n",
    "\n",
    "\n",
    "Das bedeutet also, dass die Minimierung in diesem Fall im ersten Schritt konvergiert und eine Iteration keine Verbesserung liefert."
   ]
  },
  {
   "cell_type": "markdown",
   "metadata": {},
   "source": [
    "---\n",
    "### 1.2\n",
    "Bestimmen Sie mittels Monte Carlo die Verteilungen der verschiedenen Schätzwerte $\\hat{a}$.\n",
    "\n",
    "---"
   ]
  },
  {
   "cell_type": "code",
   "execution_count": 35,
   "metadata": {
    "collapsed": false
   },
   "outputs": [
    {
     "data": {
      "image/png": "[encoded data removed]",
      "text/plain": [
       "<matplotlib.figure.Figure at 0x7f18bd052588>"
      ]
     },
     "metadata": {},
     "output_type": "display_data"
    },
    {
     "data": {
      "image/png": "[encoded data removed]",
      "text/plain": [
       "<matplotlib.figure.Figure at 0x7f1968630f60>"
      ]
     },
     "metadata": {},
     "output_type": "display_data"
    },
    {
     "data": {
      "image/png": "[encoded data removed]",
      "text/plain": [
       "<matplotlib.figure.Figure at 0x7f1968680a58>"
      ]
     },
     "metadata": {},
     "output_type": "display_data"
    },
    {
     "data": {
      "image/png": "[encoded data removed]",
      "text/plain": [
       "<matplotlib.figure.Figure at 0x7f18ba5fdb70>"
      ]
     },
     "metadata": {},
     "output_type": "display_data"
    },
    {
     "data": {
      "image/png": "[encoded data removed]",
      "text/plain": [
       "<matplotlib.figure.Figure at 0x7f18ba7566a0>"
      ]
     },
     "metadata": {},
     "output_type": "display_data"
    }
   ],
   "source": [
    "def generate_sample(a, n=10, size=100000):\n",
    "    ks = np.arange(1, n + 1)\n",
    "    yss = np.random.poisson(a * ks, size=(size, n)) #ziehe 100k mal 10 poissonzahlen\n",
    "    return ks, yss\n",
    "\n",
    "\n",
    "a = 42\n",
    "ks, yss = generate_sample(a)\n",
    "estimators = [\n",
    "    #lambda: anonyme funktionen, Beispiel: a = lambda x : 2x; a(2) gibt dann 4 zurück\n",
    "    ('1', lambda xs, ys: np.sum(ys * xs) / np.sum(xs ** 2)),\n",
    "    ('1/y_k', lambda xs, ys: np.sum(xs) / np.sum(xs ** 2 / (ys))), #keine division durch 0 bitte\n",
    "    ('1/ak', lambda xs, ys: np.sqrt(np.sum(ys ** 2 / xs) / np.sum(xs))),\n",
    "    ('1/k', lambda xs, ys: np.sum(ys) / np.sum(xs)),\n",
    "    ('1/a_{n-1}k', lambda xs, ys: np.sum(ys) / np.sum(xs))\n",
    "]\n",
    "\n",
    "for w, wf in estimators:\n",
    "    as_ = np.array([wf(ks, ys) for ys in yss])\n",
    "    mean = np.mean(as_)\n",
    "    var = np.var(as_)\n",
    "    plt.hist(as_, bins=20)\n",
    "    plt.title('$w_k = {}$, $\\mu = {:.3f}$, $\\sigma^2 = {:.3f}$'.format(w, mean, var))\n",
    "    plt.show()"
   ]
  },
  {
   "cell_type": "markdown",
   "metadata": {},
   "source": [
    "---\n",
    "## Aufgabe 2\n",
    "Betrachten Sie ein Histogramm mit 10 Bins im Bereich $[0,1]$. Generieren Sie eine Poisson-verteilte Zufallszahl $N$ mit Mittelwert $\\langle N\\rangle = 400$, und füllen Sie das Histogramm mit $N$ Zufallszahlen die Sie gemäß\n",
    "\n",
    "$$x = \\frac{1}{2}\\left(\\sqrt{1 + 8z} - 1\\right)$$\n",
    "\n",
    "erzeugen, wobei $z$ gleichverteilt im Intervall $[0, 1]$ ist. Die Theorie sagt voraus, dass $x$ gemäß einer Wahrscheinlichkeitsdichte\n",
    "\n",
    "$$ \\rho(x) = \\frac{1 + \\alpha x}{1 + \\alpha/2}$$\n",
    "\n",
    "verteilt ist.\n",
    "\n",
    "---"
   ]
  },
  {
   "cell_type": "code",
   "execution_count": 36,
   "metadata": {
    "collapsed": false
   },
   "outputs": [
    {
     "name": "stdout",
     "output_type": "stream",
     "text": [
      "403\n"
     ]
    },
    {
     "data": {
      "image/png": "[encoded data removed]",
      "text/plain": [
       "<matplotlib.figure.Figure at 0x7f18ba433668>"
      ]
     },
     "metadata": {},
     "output_type": "display_data"
    }
   ],
   "source": [
    "def transform_x(z):\n",
    "    return 1 / 2 * (np.sqrt(1 + 8 * z) - 1)\n",
    "\n",
    "\n",
    "N = np.random.poisson(400)\n",
    "print(N)\n",
    "xs = transform_x(np.random.uniform(size=N))\n",
    "ns, bins, _ = plt.hist(xs, range=(0, 1), bins=10)\n",
    "plt.show()"
   ]
  },
  {
   "cell_type": "markdown",
   "metadata": {},
   "source": [
    "---\n",
    "Bestimmen sie mit der Methode der kleinsten Quadrate einen Schätzwert für $\\alpha$. Nehmen Sie dazu an, dass die Anzahl der Einträge in jedem Bin Poisson-verteilt um ihren Erwartungswert streut. Beschreiben Sie die Daten durch eine lineare Funktion $y = a_0 + a1_x$, bestimmen Sie $a_0$ und $a_1$ und deren Kovarianzmatrix, und berechnen Sie daraus $\\alpha(a_0, a_1)$ sowie dessen Unsicherheit. Gehen Sie beim Fit folgendermassen vor:\n",
    "\n",
    "* Berechnen Sie die erwartete Zahl von Einträgen für alle Bins.\n",
    "* Benutzen Sie diese zur Formulierung der $\\chi^2$-Funktion.\n",
    "* Minimieren Sie diese iterativ. Verwenden Sie im ersten Schritt für alle Bins konstante Gewichte $w_k = 1$, und danach als Gewicht $w_k = 1/V_k$, wobei $V_k$ die mit den Parametern aus dem vorhergehenden Fit abgeschätzte Varianz im Bin $k$ ist.\n",
    "\n",
    "---"
   ]
  },
  {
   "cell_type": "markdown",
   "metadata": {
    "collapsed": true
   },
   "source": [
    "Mit Hilfe der PDF können wir die Anzahl erwarteter Einträge $T_k$ im $k$-ten Bin berechnen. Es ist\n",
    "\n",
    "\\begin{equation}\n",
    "    T_k(\\alpha) = N \\int_{x_k}^{x_{k+1}} \\mathrm{d}x\\, \\rho(x) = \\frac{N}{1 + \\alpha/2}\\bigl( x_{k+1} - x_{k} + \\frac{1}{2}\\alpha(x_{k+1}^2 - x_k^2) \\bigr) \\,.\n",
    "\\end{equation}\n",
    "\n",
    "Damit können wir unser $\\chi^2$ formulieren.\n",
    "\n",
    "\\begin{equation}\n",
    "    \\chi^2(\\alpha) = \\sum_k w_k \\left(n_k - T_k(\\alpha)\\right)^2\n",
    "\\end{equation}\n",
    "\n",
    "wobei $n_k$ die beobachtete Anzahl Einträge im $k$-ten Bin ist. Wir könnten jetzt hergehen und die Funktion händisch ableiten, um unseren Schätzer zu erhalten. Um uns das Leben etwas zu vereinfachen verwenden wir die `minimize`-Funktion aus `scipy.optimize`."
   ]
  },
  {
   "cell_type": "code",
   "execution_count": 37,
   "metadata": {
    "collapsed": false
   },
   "outputs": [
    {
     "name": "stdout",
     "output_type": "stream",
     "text": [
      "      fun: 635.1636363636367\n",
      " hess_inv: array([[ 0.01010952]])\n",
      "      jac: array([ -7.62939453e-06])\n",
      "  message: 'Optimization terminated successfully.'\n",
      "     nfev: 60\n",
      "      nit: 9\n",
      "     njev: 20\n",
      "   status: 0\n",
      "  success: True\n",
      "        x: array([ 2.56304696])\n"
     ]
    }
   ],
   "source": [
    "def expected_ns(N, bins, alpha):\n",
    "    widths = bins[1:] - bins[:-1] #das gibt die abstände zwischen den bins\n",
    "    sqdiff = bins[1:] ** 2 - bins[:-1] ** 2 #für T_k benötigt\n",
    "    return N / (1 + alpha / 2) * (widths + alpha / 2 * sqdiff)\n",
    "\n",
    "\n",
    "tk = partial(expected_ns, N, bins)\n",
    "\n",
    "\n",
    "def chi2(N, bins, ns, ws, alpha):\n",
    "    ts = expected_ns(N, bins, alpha)\n",
    "    return np.sum(ws * (ns - ts) ** 2)\n",
    "\n",
    "\n",
    "c2 = partial(chi2, N, bins, ns, 1)\n",
    "alpha = scipy.optimize.minimize(c2, 1)\n",
    "print(alpha)\n",
    "alpha = alpha.x[0]\n",
    "#for _ in range(5):\n",
    "#    ws = 1 / expected_ns(N, bins, alpha)\n",
    "#    c2 = partial(chi2, N, bins, ns, ws)\n",
    "#    alpha = scipy.optimize.minimize(c2, [alpha]).x[0]\n",
    "#    print(alpha)"
   ]
  },
  {
   "cell_type": "code",
   "execution_count": 38,
   "metadata": {
    "collapsed": false
   },
   "outputs": [
    {
     "data": {
      "image/png": "[encoded data removed]",
      "text/plain": [
       "<matplotlib.figure.Figure at 0x7f18ba464dd8>"
      ]
     },
     "metadata": {},
     "output_type": "display_data"
    }
   ],
   "source": [
    "widths = bins[1:] - bins[:-1]\n",
    "centres = bins[:-1] + widths / 2\n",
    "plt.errorbar(centres, ns, xerr=widths / 2, yerr=np.sqrt(ns), fmt='.')\n",
    "\n",
    "\n",
    "def rho(x):\n",
    "    return (1 + alpha * x) / (1 + alpha / 2)\n",
    "\n",
    "\n",
    "xs_ = np.linspace(0, 1, 2)\n",
    "plt.plot(xs_, N * widths[0] * rho(xs_))\n",
    "plt.show()"
   ]
  },
  {
   "cell_type": "markdown",
   "metadata": {},
   "source": [
    "---\n",
    "Wiederholen Sie die Fits mit unabhängigen Datensätzen und bestimmen Sie die Verteilung von $\\alpha$. Variieren Sie die Methode, indem Sie den Fit nicht iterieren oder andere Gewichtsfunktionen benutzen.\n",
    "\n",
    "---"
   ]
  },
  {
   "cell_type": "code",
   "execution_count": 6,
   "metadata": {
    "collapsed": false
   },
   "outputs": [
    {
     "name": "stderr",
     "output_type": "stream",
     "text": [
      "/opt/local/Library/Frameworks/Python.framework/Versions/3.5/lib/python3.5/site-packages/scipy/optimize/optimize.py:895: RuntimeWarning: divide by zero encountered in double_scalars\n",
      "  rhok = 1.0 / (numpy.dot(yk, sk))\n"
     ]
    },
    {
     "data": {
      "image/png": "[encoded data removed]",
      "text/plain": [
       "<matplotlib.figure.Figure at 0x10bc68c50>"
      ]
     },
     "metadata": {},
     "output_type": "display_data"
    },
    {
     "name": "stdout",
     "output_type": "stream",
     "text": [
      "mean = 7.47789898040703\n",
      "variance = 2941.272552062334\n"
     ]
    },
    {
     "data": {
      "image/png": "[encoded data removed]",
      "text/plain": [
       "<matplotlib.figure.Figure at 0x10b809470>"
      ]
     },
     "metadata": {},
     "output_type": "display_data"
    },
    {
     "name": "stdout",
     "output_type": "stream",
     "text": [
      "mean = 2.0276207157030592\n",
      "variance = 0.42905955008761537\n"
     ]
    }
   ],
   "source": [
    "def fit_alpha(N, xs, iterations=5):\n",
    "    ns, bins = np.histogram(xs, range=(0, 1), bins=10)\n",
    "    c2 = partial(chi2, N, bins, ns, 1)\n",
    "\n",
    "    alpha = scipy.optimize.minimize(c2, [1]).x[0]\n",
    "\n",
    "    for _ in range(iterations):\n",
    "        ws = 1 / expected_ns(N, bins, alpha)\n",
    "        c2 = partial(chi2, N, bins, ns, ws)\n",
    "        alpha = scipy.optimize.minimize(c2, [alpha]).x[0]\n",
    "        \n",
    "    return alpha\n",
    "\n",
    "\n",
    "def generate_sample(mean_N=400):\n",
    "    N = np.random.poisson(mean_N)\n",
    "    xs = transform_x(np.random.uniform(size=N))\n",
    "    return N, xs\n",
    "\n",
    "\n",
    "alphas = np.array([fit_alpha(*generate_sample()) for _ in range(100)])\n",
    "plt.hist(alphas)\n",
    "plt.show()\n",
    "print('mean = {}'.format(np.mean(alphas)))\n",
    "print('variance = {}'.format(np.var(alphas)))\n",
    "\n",
    "alphas = alphas[np.logical_and(-5 < alphas, alphas < 5)]\n",
    "plt.hist(alphas)\n",
    "plt.show()\n",
    "print('mean = {}'.format(np.mean(alphas)))\n",
    "print('variance = {}'.format(np.var(alphas)))"
   ]
  },
  {
   "cell_type": "markdown",
   "metadata": {},
   "source": [
    "### Alternative Lösung ohne Verwendung von `scipy.optimize`\n",
    "\n",
    "Wir können unser $T_k$ auch als lineares Modell zweier Parameter $a_0$ und $a_1$ ausdrücken, indem wir zwei Variablen $p_k$ und $q_k$ einführen die definiert sind als\n",
    "\n",
    "\\begin{align}\n",
    "    p_k &= x_{k + 1} - x_k \\,\\text{und} \\\\\n",
    "    q_k &= \\frac{1}{2}(x_{k + 1}^2 - x_k^2) \\,.\n",
    "\\end{align}\n",
    "\n",
    "Damit ist\n",
    "\n",
    "\\begin{equation}\n",
    "    T_k(a_0, a_1) = a_0 p_k + a_1 q_k\n",
    "\\end{equation}\n",
    "\n",
    "Damit können wir zur Minimierung des $\\chi^2$ die analytische Lösung für lineare Modelle verwenden. Als Designmatrix $X$ verwenden wir\n",
    "\n",
    "\\begin{equation}\n",
    "    X = \\pmatrix{p_1 & q_1 \\\\\n",
    "                 \\vdots & \\vdots \\\\\n",
    "                 p_k & q_k}\n",
    "\\end{equation}\n",
    "\n",
    "und erhalten\n",
    "\n",
    "\\begin{equation}\n",
    "    \\mathbf{\\hat{a}} = (X^T W X)^{-1} X^T W y\n",
    "\\end{equation}\n",
    "\n",
    "wobei $W$ die Gewichtsmatrix ist. Um $\\hat{a}$ iterativ zu berechnen, verwenden wir\n",
    "\n",
    "\\begin{equation}\n",
    "    \\mathbf{\\hat{a}^{(n+1)}} = (X^T W^{(n)} X)^{-1} X^T W^{(n)} y\n",
    "\\end{equation}\n",
    "\n",
    "wobei\n",
    "\n",
    "\\begin{equation}\n",
    "    W^{(n)} = \\frac{1}{{\\hat{a}_0^{(n)}p_k + \\hat{a}_1^{(n)}q_k}} \\mathbb{1} \\,.\n",
    "\\end{equation}"
   ]
  },
  {
   "cell_type": "code",
   "execution_count": 7,
   "metadata": {
    "collapsed": false
   },
   "outputs": [
    {
     "name": "stdout",
     "output_type": "stream",
     "text": [
      "[[ 192.02643213]\n",
      " [ 401.39193664]]\n",
      "[[ 187.87434483]\n",
      " [ 409.69780569]]\n",
      "[[ 187.75813701]\n",
      " [ 409.93026876]]\n",
      "[[ 187.75485754]\n",
      " [ 409.93682905]]\n",
      "[[ 187.75476497]\n",
      " [ 409.93701423]]\n",
      "[[ 187.75476235]\n",
      " [ 409.93701945]]\n",
      "[[ 187.75476228]\n",
      " [ 409.9370196 ]]\n",
      "[[ 187.75476228]\n",
      " [ 409.9370196 ]]\n",
      "[[ 187.75476228]\n",
      " [ 409.9370196 ]]\n",
      "[[ 187.75476228]\n",
      " [ 409.9370196 ]]\n",
      "[[ 187.75476228]\n",
      " [ 409.9370196 ]]\n"
     ]
    }
   ],
   "source": [
    "def prepare_xs(xs):\n",
    "    y, bins = np.histogram(xs)\n",
    "    ps = bins[1:] - bins[:-1]\n",
    "    qs = (bins[1:] ** 2 - bins[:-1] ** 2) / 2\n",
    "    X = np.matrix([ps, qs]).T\n",
    "    return np.matrix(y).T, X\n",
    "\n",
    "\n",
    "def regression(y, X, W=None):\n",
    "    if W is None:\n",
    "        W = np.identity(X.shape[0])\n",
    "    a = (X.T * W * X).I * X.T * W * y\n",
    "    W = (np.diag(np.array(1 / (X * a))[:,0]))\n",
    "    return a, W\n",
    "\n",
    "N, xs = generate_sample()\n",
    "y, X = prepare_xs(xs)\n",
    "I = np.identity(np.shape(X)[0])\n",
    "\n",
    "a, W = regression(y, X)\n",
    "print(a)\n",
    "for _ in range(10):\n",
    "    a, W = regression(y, X, W)\n",
    "    print(a)"
   ]
  },
  {
   "cell_type": "markdown",
   "metadata": {},
   "source": [
    "Jetzt müssen wir nur noch $\\alpha$ aus $a_0$ und $a_1$ bestimmen.\n"
   ]
  },
  {
   "cell_type": "code",
   "execution_count": 8,
   "metadata": {
    "collapsed": false
   },
   "outputs": [
    {
     "data": {
      "text/plain": [
       "matrix([[ 2.18336416]])"
      ]
     },
     "execution_count": 8,
     "metadata": {},
     "output_type": "execute_result"
    }
   ],
   "source": [
    "a0, a1 = a\n",
    "\n",
    "alpha = a1 / a0\n",
    "alpha"
   ]
  }
 ],
 "metadata": {
  "kernelspec": {
   "display_name": "Python 3",
   "language": "python",
   "name": "python3"
  },
  "language_info": {
   "codemirror_mode": {
    "name": "ipython",
    "version": 3
   },
   "file_extension": ".py",
   "mimetype": "text/x-python",
   "name": "python",
   "nbconvert_exporter": "python",
   "pygments_lexer": "ipython3",
   "version": "3.4.5"
  }
 },
 "nbformat": 4,
 "nbformat_minor": 0
}
