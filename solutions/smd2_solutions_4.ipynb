{
 "cells": [
  {
   "cell_type": "markdown",
   "metadata": {},
   "source": [
    "# Übungsblatt 4: MCMC\n",
    "\n",
    " * [Aufgabe 1](#Aufgabe-1)\n",
    " * [Aufgabe 2](#Aufgabe-2)\n",
    " \n",
    "---"
   ]
  },
  {
   "cell_type": "code",
   "execution_count": 12,
   "metadata": {
    "collapsed": true
   },
   "outputs": [],
   "source": [
    "%matplotlib inline\n",
    "import numpy as np\n",
    "import matplotlib.pyplot as plt\n",
    "import scipy.stats\n",
    "from functools import partial\n",
    "\n",
    "plt.style.use('ggplot')"
   ]
  },
  {
   "cell_type": "markdown",
   "metadata": {},
   "source": [
    "---\n",
    "## Aufgabe 1\n",
    "Erzeugen Sie Paare von Zufallszahlen (x, y) die gemäß der zweidimensionalen Dichte\n",
    "\n",
    "\\begin{equation}\n",
    "    f(x, y) \\propto \\exp\\left(-((x-2)x + y^2)/10\\right)\\cdot\\sin^2(x\\cdot y + x)\n",
    "\\end{equation}\n",
    "\n",
    "verteilt sind. Bestimmen Sie daraus die Verteilung $\\rho(r)$ mit $r^2 = x^2 + y^2$.\n",
    "\n",
    "---"
   ]
  },
  {
   "cell_type": "code",
   "execution_count": 15,
   "metadata": {
    "collapsed": false
   },
   "outputs": [
    {
     "name": "stdout",
     "output_type": "stream",
     "text": [
      "CPU times: user 1.09 s, sys: 20.3 ms, total: 1.11 s\n",
      "Wall time: 1.14 s\n"
     ]
    }
   ],
   "source": [
    "def pdf(xs):\n",
    "    x, y = xs\n",
    "    return np.exp(-((x - 2) * x + y ** 2) / 10) * np.sin(x * y + x) ** 2\n",
    "\n",
    "def mcmc_generate(pdf, xs, size=100000):\n",
    "    ds = np.random.uniform(-3, 3, size=(size, len(xs)))\n",
    "    r = np.random.uniform(size=size)\n",
    "    p0 = pdf(xs)\n",
    "    xss = []\n",
    "    for i in range(size):\n",
    "        nxs = xs + ds[i] #steps are random: q(x|y) = q(y|x)\n",
    "        p1 = pdf(nxs)\n",
    "        if p1 > p0 or r[i] < (p1 / p0): #detailed balance:\n",
    "            xs = nxs                    #accept(x->y)=min(1,pdf(y)/pdf(x))\n",
    "            p0 = p1\n",
    "        xss.append(xs)\n",
    "    return np.array(xss).T\n",
    "\n",
    "\n",
    "%time xs, ys = mcmc_generate(pdf, np.array([0, 0]))"
   ]
  },
  {
   "cell_type": "code",
   "execution_count": 16,
   "metadata": {
    "collapsed": false
   },
   "outputs": [
    {
     "data": {
      "image/png": "[encoded data removed]",
      "text/plain": [
       "<matplotlib.figure.Figure at 0x110a40160>"
      ]
     },
     "metadata": {},
     "output_type": "display_data"
    },
    {
     "data": {
      "image/png": "[encoded data removed]",
      "text/plain": [
       "<matplotlib.figure.Figure at 0x113d7bc18>"
      ]
     },
     "metadata": {},
     "output_type": "display_data"
    }
   ],
   "source": [
    "plt.hist2d(xs, ys, bins=40)\n",
    "plt.show()\n",
    "\n",
    "plt.hist(np.sqrt(xs ** 2 + ys ** 2), bins=40)\n",
    "plt.show()"
   ]
  },
  {
   "cell_type": "markdown",
   "metadata": {},
   "source": [
    "---\n",
    "## Aufgabe 2\n",
    "Ein Experiment beobachtet $n$ Ereignisse. Die Nachweiswahrscheinlichkeit für ein Ereignis sei $ε$. Die wahre Anzahl ist Poisson-verteilt mit einem Mittelwert $μ$, der eine Funktion zweier Theorieparameter $a$ und $b$ ist, $μ = a^b$. Aus Kalibrationsmessungen ist bekannt dass $ε$ Gauss-verteilt ist mit $ε = 0.75 \\pm 0.05$. Vom Parameter $b$ ist bekannt dass er nahe bei $b = 1$ liegt. Für ihn wird eine gleichförmige Verteilung im Bereich $0.9 < b < 1.1$ angenommen. Der Parameter $a$ muss positiv sein. Verwenden Sie bayes’sche Statistik und MCMC, und bestimmen Sie für $n = 1$ und $n = 10$ die posterior Verteilung von $a$ nach Integration über die Nuissance-Parameter $ε$ und $b$.\n",
    "\n",
    "---"
   ]
  },
  {
   "cell_type": "markdown",
   "metadata": {},
   "source": [
    "Zunächst müssen wir berechnen, wie die Effizienz die Verteilung der $n$ beeinflusst. Es sei $q_n$ die Wahrscheinlichkeit $n$ Ereignisse zu beobachten, wenn die $n$ um einen Mittelwert $\\mu$ Poisson-verteilt sind und mit einer Effizienz $\\varepsilon$ beobachtet werden. Es kann also sein, dass genau $n$ Ereignisse auftreten und alle beobachtet werden, oder $n+1$ beobachtet werden und eins nicht usw. Das bedeutet\n",
    "\n",
    "\\begin{align}\n",
    "    q_n &= \\sum_{k=n}^\\infty \\mathrm{Poisson}(k, \\mu) \\binom{k}{n} \\varepsilon^n (1-\\varepsilon)^{k-n} \\\\\n",
    "        &= \\sum_{k=n}^\\infty \\exp(-\\mu) \\frac{\\mu^k}{k!} \\frac{k!}{n!(k-n)!} \\varepsilon^n (1-\\varepsilon)^{k-n} \\\\\n",
    "        &= \\exp(-\\mu) \\frac{\\varepsilon^n}{n!} \\sum_{k=n}^\\infty \\frac{\\mu^k (1-\\varepsilon)^{k-n}}{(k-n)!} \\\\\n",
    "        &= \\exp(-\\mu) \\frac{(\\varepsilon\\mu)^n}{n!} \\sum_{k=n}^\\infty \\frac{(\\mu(1-\\varepsilon))^{k-n}}{(k-n)!} \\\\\n",
    "        &= \\exp(-\\mu) \\frac{(\\varepsilon\\mu)^n}{n!} \\sum_{k=0}^\\infty \\frac{(\\mu(1-\\varepsilon))^{k}}{(k)!} \\\\\n",
    "        &= \\exp(-\\mu) \\frac{(\\varepsilon\\mu)^n}{n!} \\exp(\\mu(1-\\varepsilon)) \\\\\n",
    "        &= \\exp(-\\varepsilon\\mu) \\frac{(\\varepsilon\\mu)^n}{n!} \\\\\n",
    "        &= \\mathrm{Poisson}(n, \\varepsilon\\mu) \\\\\n",
    "\\end{align}"
   ]
  },
  {
   "cell_type": "markdown",
   "metadata": {
    "collapsed": true
   },
   "source": [
    "Damit ist\n",
    "\n",
    "\\begin{equation}\n",
    "    p(n\\,|\\,a,b,\\varepsilon) \\propto \\exp\\left(\\mu\\varepsilon\\right)\\cdot\\left(\\mu\\varepsilon\\right)^n \\quad\\text{mit}\\quad \\mu = a^b \\,.\n",
    "\\end{equation}\n",
    "\n",
    "Mit Hilfe von Bayes Theorem können wir nun die Posteriorverteilung der unbekannten Parameter $\\left\\{a,b,\\varepsilon\\right\\}$ ausdrücken. Es ist\n",
    "\n",
    "\\begin{equation}\n",
    "    p(a, b, \\varepsilon\\,|\\,n) \\propto p(n\\,|\\,a, b, \\varepsilon) \\cdot p(a, b, \\varepsilon)\n",
    "\\end{equation}\n",
    "\n",
    "mit der Priorwahrscheinlichkeitsdichte\n",
    "\n",
    "\\begin{equation}\n",
    "    p(a, b, \\varepsilon) \\propto \\Theta(a) \\cdot \\Theta(b - 0.9) \\cdot \\Theta(1.1 - b) \\cdot \\exp\\left(-200(\\varepsilon - 0.75)^2\\right) \\,.\n",
    "\\end{equation}\n",
    "\n",
    "\n",
    "Dieser Ausdruck wird jetzt per MCMC über $\\varepsilon$ und $b$ integriert um die Verteilung von $p(a\\,|\\,n)$ zu erhalten."
   ]
  },
  {
   "cell_type": "code",
   "execution_count": 4,
   "metadata": {
    "collapsed": false
   },
   "outputs": [],
   "source": [
    "uniform_b = scipy.stats.uniform(0.9, 1.1).pdf\n",
    "gaussian_eps = scipy.stats.norm(0.75, 0.05).pdf\n",
    "\n",
    "def p(a, n, eps, b):\n",
    "    if a <= 0:\n",
    "        return 0\n",
    "    epsab = eps * a**b\n",
    "    return scipy.stats.poisson.pmf(n, epsab) * uniform_b(b) * gaussian_eps(eps)"
   ]
  },
  {
   "cell_type": "markdown",
   "metadata": {},
   "source": [
    "Diese können wir dann bequem mit unseren, in Aufgabe 1 formulierten, MCMC-Funktionen verwenden. Wir müssen uns nur einen kleinen Wrapper schreiben."
   ]
  },
  {
   "cell_type": "code",
   "execution_count": null,
   "metadata": {
    "collapsed": false
   },
   "outputs": [
    {
     "data": {
      "image/png": "[encoded data removed]",
      "text/plain": [
       "<matplotlib.figure.Figure at 0x10aa35f60>"
      ]
     },
     "metadata": {},
     "output_type": "display_data"
    }
   ],
   "source": [
    "def p_n(n, pars):\n",
    "    a, eps, b = pars\n",
    "    return p(a, n, eps, b)\n",
    "\n",
    "\n",
    "p_1 = partial(p_n, 1)\n",
    "as1, _, _ = mcmc_generate(p_1, np.array([0.01, 0.75, 1]), size=1000000)\n",
    "\n",
    "plt.hist(as1, bins=40)\n",
    "plt.title('$n = 1$')\n",
    "plt.xlabel('$a$')\n",
    "plt.ylabel('Absolute Häufigkeit')\n",
    "plt.show()"
   ]
  },
  {
   "cell_type": "code",
   "execution_count": null,
   "metadata": {
    "collapsed": false
   },
   "outputs": [],
   "source": [
    "p_10 = partial(p_n, 10)\n",
    "as10, _, _ = mcmc_generate(p_10, np.array([0.01, 0.75, 1]), size=1000000)\n",
    "\n",
    "plt.hist(as10, bins=40)\n",
    "plt.title('$n = 10$')\n",
    "plt.xlabel('$a$')\n",
    "plt.ylabel('Absolute Häufigkeit')\n",
    "plt.show()"
   ]
  }
 ],
 "metadata": {
  "kernelspec": {
   "display_name": "Python 3",
   "language": "python",
   "name": "python3"
  },
  "language_info": {
   "codemirror_mode": {
    "name": "ipython",
    "version": 3
   },
   "file_extension": ".py",
   "mimetype": "text/x-python",
   "name": "python",
   "nbconvert_exporter": "python",
   "pygments_lexer": "ipython3",
   "version": "3.6.0"
  }
 },
 "nbformat": 4,
 "nbformat_minor": 0
}
